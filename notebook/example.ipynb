{
 "cells": [
  {
   "cell_type": "code",
   "execution_count": 1,
   "metadata": {},
   "outputs": [],
   "source": [
    "from collections import namedtuple"
   ]
  },
  {
   "cell_type": "markdown",
   "metadata": {},
   "source": [
    "### If we can give a name to every element of a tuple that tuple is called as named tuple.  "
   ]
  },
  {
   "cell_type": "markdown",
   "metadata": {},
   "source": [
    "### Now we will see how we can give name to every element of a tuple "
   ]
  },
  {
   "cell_type": "markdown",
   "metadata": {},
   "source": [
    "1. download URL\n",
    "2. download folder(compressed file)\n",
    "3. extract folder(extracted file)\n",
    "4. Train dataset folder\n",
    "5. test dataset folder\n",
    "\n",
    "namedtuple(\"typename\",[\"download url\",\"downlod folder(compressed file)\",\"extract folder\",\"train dataset folder\",\"test dataset folder\"])"
   ]
  },
  {
   "cell_type": "code",
   "execution_count": 4,
   "metadata": {},
   "outputs": [],
   "source": [
    "DataIngestionConfig = namedtuple(\"DataIngestionConfig\",\n",
    "[\"dataset_download_url\",\"tgz_download_dir\",\"raw_data_dir\",\"ingested_train_dir\",\"ingested_test_dir\"])"
   ]
  },
  {
   "cell_type": "code",
   "execution_count": 6,
   "metadata": {},
   "outputs": [],
   "source": [
    "data_ingestion_config = DataIngestionConfig(dataset_download_url=\"dsdsss\",\n",
    "tgz_download_dir=\"aswqaa\",\n",
    "raw_data_dir=\"ddwsds\",\n",
    "ingested_train_dir=\"sssda\",\n",
    "ingested_test_dir=\"dfaed\")"
   ]
  },
  {
   "cell_type": "code",
   "execution_count": 7,
   "metadata": {},
   "outputs": [
    {
     "data": {
      "text/plain": [
       "DataIngestionConfig(dataset_download_url='dsdsss', tgz_download_dir='aswqaa', raw_data_dir='ddwsds', ingested_train_dir='sssda', ingested_test_dir='dfaed')"
      ]
     },
     "execution_count": 7,
     "metadata": {},
     "output_type": "execute_result"
    }
   ],
   "source": [
    "data_ingestion_config"
   ]
  },
  {
   "cell_type": "markdown",
   "metadata": {},
   "source": [
    "### In this way we are getting a structure "
   ]
  },
  {
   "cell_type": "markdown",
   "metadata": {},
   "source": []
  }
 ],
 "metadata": {
  "kernelspec": {
   "display_name": "Python 3.7.0 (conda)",
   "language": "python",
   "name": "python3"
  },
  "language_info": {
   "codemirror_mode": {
    "name": "ipython",
    "version": 3
   },
   "file_extension": ".py",
   "mimetype": "text/x-python",
   "name": "python",
   "nbconvert_exporter": "python",
   "pygments_lexer": "ipython3",
   "version": "3.7.0"
  },
  "orig_nbformat": 4,
  "vscode": {
   "interpreter": {
    "hash": "77b7a55eaf1b315150e00a0a84369037d892d76f81efffdf9acb1e428b9628ff"
   }
  }
 },
 "nbformat": 4,
 "nbformat_minor": 2
}
